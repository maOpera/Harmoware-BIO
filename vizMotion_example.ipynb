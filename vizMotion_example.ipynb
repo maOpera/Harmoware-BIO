{
 "cells": [
  {
   "cell_type": "code",
   "execution_count": 24,
   "metadata": {},
   "outputs": [
    {
     "name": "stdout",
     "output_type": "stream",
     "text": [
      "The autoreload extension is already loaded. To reload it, use:\n",
      "  %reload_ext autoreload\n",
      "connect to opera server\n"
     ]
    }
   ],
   "source": [
    "%load_ext autoreload\n",
    "%autoreload 2\n",
    "\n",
    "from operaDB import OperaDB\n",
    "from omronEyeLib import OmronEye\n",
    "from imageLib import OperaImage\n",
    "from sensorLib import *\n",
    "import math\n",
    "import numpy as np\n",
    "import pandas as pd\n",
    "import time\n",
    "import matplotlib.pyplot as plt\n",
    "\n",
    "#Connection to opera DB\n",
    "opera = OperaDB('opera_conn.xml', 'lifelog-shimizu')\n",
    "#cur.execute(\"select version()\")\n",
    "#print(cur.fetchall())"
   ]
  },
  {
   "cell_type": "code",
   "execution_count": 25,
   "metadata": {},
   "outputs": [
    {
     "name": "stdout",
     "output_type": "stream",
     "text": [
      "                                     id     start_time   length  \\\n",
      "0  6ddb9062-c12c-11e8-ad67-06dc25b93fb2  1537925720190     9973   \n",
      "1  8b8e87ea-c12c-11e8-ad67-06dc25b93fb2  1537925770180     4822   \n",
      "2  d70251de-c12c-11e8-ad67-06dc25b93fb2  1537925896758    35510   \n",
      "3  0c661892-c12d-11e8-ad67-06dc25b93fb2  1537925986346  1588560   \n",
      "4  de9157c8-c132-11e8-ad7b-06dc25b93fb2  1537928486195    29276   \n",
      "5  340d32ee-c133-11e8-ad7c-06dc25b93fb2  1537928629543   514081   \n",
      "\n",
      "                                user_id  \n",
      "0  687b7332-3c82-11e8-91ea-06dc25b93fb2  \n",
      "1  687b7332-3c82-11e8-91ea-06dc25b93fb2  \n",
      "2  687b7332-3c82-11e8-91ea-06dc25b93fb2  \n",
      "3  687b7332-3c82-11e8-91ea-06dc25b93fb2  \n",
      "4  687b7332-3c82-11e8-91ea-06dc25b93fb2  \n",
      "5  687b7332-3c82-11e8-91ea-06dc25b93fb2  \n"
     ]
    }
   ],
   "source": [
    "#Get time from video\n",
    "#desire_date = '2018-07-27'\n",
    "#desire_date = '2018-08-22'\n",
    "#desire_date = '2018-09-19'\n",
    "desire_date = '2018-09-26'\n",
    "\n",
    "#opera.get_TripListFromTime('2018-09-19', '00:00:00.0000', '23:59:59')\n",
    "tripLists = opera.get_TripListFromTime(desire_date)\n",
    "print(tripLists)"
   ]
  },
  {
   "cell_type": "code",
   "execution_count": 3,
   "metadata": {
    "collapsed": true
   },
   "outputs": [],
   "source": [
    "#OBD data\n",
    "obd = OBD( opera )\n",
    "column_names, df_obd = obd.get_DataFrameFromTrip( tripLists, 3, -20 )"
   ]
  },
  {
   "cell_type": "code",
   "execution_count": 4,
   "metadata": {},
   "outputs": [
    {
     "name": "stdout",
     "output_type": "stream",
     "text": [
      "['id', 'time', 'vehicle_speed', 'relative_accelerator_pedal_position', 'user_id']\n"
     ]
    },
    {
     "data": {
      "image/png": "[encoded data removed]",
      "text/plain": [
       "<matplotlib.figure.Figure at 0x7ff8cd503630>"
      ]
     },
     "metadata": {},
     "output_type": "display_data"
    }
   ],
   "source": [
    "import matplotlib.pyplot as plt\n",
    "print(column_names)\n",
    "plt.plot(df_obd['time']/1000,df_obd['vehicle_speed'])\n",
    "plt.show()"
   ]
  },
  {
   "cell_type": "code",
   "execution_count": 30,
   "metadata": {},
   "outputs": [
    {
     "name": "stdout",
     "output_type": "stream",
     "text": [
      "sensor name : sensor type\n",
      "BMP280 temperature : 65536\n",
      "BMI160 accelerometer : 1\n",
      "BMM150 magnetometer : 2\n",
      "Orientation : 3\n",
      "BMI160 gyroscope : 4\n",
      "TMD27723 Light Sensor : 5\n",
      "BMP280 pressure : 6\n",
      "Gravity : 9\n",
      "Linear Acceleration : 10\n",
      "Rotation Vector : 11\n",
      "BMM150 magnetometer (uncalibrated) : 14\n",
      "Game Rotation Vector : 15\n",
      "BMI160 gyroscope (uncalibrated) : 16\n",
      "Geomagnetic Rotation Vector : 20\n",
      "BMI160 accelerometer (uncalibrated) : 35\n",
      "You need more information, Please see below\n",
      "https://developer.android.com/reference/android/hardware/Sensor\n"
     ]
    }
   ],
   "source": [
    "#Sensor data\n",
    "sensor = Sensors( opera )\n",
    "sensor.get_ListSensorType()"
   ]
  },
  {
   "cell_type": "code",
   "execution_count": 59,
   "metadata": {},
   "outputs": [
    {
     "name": "stdout",
     "output_type": "stream",
     "text": [
      "Empty DataFrame\n",
      "Columns: [id, time, sensor_type, sensor_name, accuracy, sensor_values, model, timestamp, user_id]\n",
      "Index: []\n"
     ]
    }
   ],
   "source": [
    "column_names, df_sensor = sensor.get_DataFrameFromTripWithSensorType( 30, tripLists, 0, -20 )\n",
    "print(df_sensor)"
   ]
  },
  {
   "cell_type": "code",
   "execution_count": 56,
   "metadata": {},
   "outputs": [
    {
     "name": "stdout",
     "output_type": "stream",
     "text": [
      "['id', 'time', 'sensor_type', 'sensor_name', 'accuracy', 'sensor_values', 'model', 'timestamp', 'user_id']\n",
      "9.613608,0.09580079,-0.1341211\n",
      "3\n",
      "9.613608\n"
     ]
    }
   ],
   "source": [
    "print(column_names)\n",
    "print(df_sensor['sensor_values'][0])\n",
    "s = df_sensor['sensor_values'][0]\n",
    "l = [x.strip() for x in s.split(',')]\n",
    "print(len(l))\n",
    "print(float(l[0]))"
   ]
  },
  {
   "cell_type": "code",
   "execution_count": null,
   "metadata": {
    "collapsed": true
   },
   "outputs": [],
   "source": [
    "column_names, df_sensor = sensor.get_DataFrameFromTrip( tripLists, 0, -20 )\n",
    "print(column_names)\n",
    "print(df_sensor['sensor_type'][:20])\n",
    "print(df_sensor['sensor_name'][:20])"
   ]
  }
 ],
 "metadata": {
  "kernelspec": {
   "display_name": "Python 3",
   "language": "python",
   "name": "python3"
  },
  "language_info": {
   "codemirror_mode": {
    "name": "ipython",
    "version": 3
   },
   "file_extension": ".py",
   "mimetype": "text/x-python",
   "name": "python",
   "nbconvert_exporter": "python",
   "pygments_lexer": "ipython3",
   "version": "3.5.2"
  }
 },
 "nbformat": 4,
 "nbformat_minor": 2
}
